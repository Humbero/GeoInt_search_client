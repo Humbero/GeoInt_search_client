{
 "cells": [
  {
   "cell_type": "markdown",
   "id": "8b4cf420",
   "metadata": {},
   "source": [
    "# Mapa interativo para busca de clientes no estado de Pernambuco"
   ]
  },
  {
   "cell_type": "markdown",
   "id": "2dd66228",
   "metadata": {},
   "source": [
    "## Bibliotecas utilizadas no projeto\n"
   ]
  },
  {
   "cell_type": "code",
   "execution_count": 1,
   "id": "74362059",
   "metadata": {},
   "outputs": [],
   "source": [
    "import pandas as pd\n",
    "import geopandas as gd\n",
    "import keplergl as kp"
   ]
  },
  {
   "cell_type": "markdown",
   "id": "dfcd55be",
   "metadata": {},
   "source": [
    "## Limpeza e tratamento dos dados da receita federal\n",
    "\n",
    "O volume de dados fornecido pela Receita Federal é elevado, porém segue um único padrão que facilitará o processo como um todo. Tendo em vista este padrão, realizaremos o tratamento de um dos conjuntos de dados e construiremos uma função para tratamento dos demais conjuntos de dados."
   ]
  },
  {
   "cell_type": "markdown",
   "id": "6f4747a5",
   "metadata": {},
   "source": [
    "OBS: temos algumas informações relevantes sobre o arquivo que são necessárias ao correto carregamento dos dados no pandas, são elas:\n",
    "- O arquivo é do tipo CSV, logo, utilizaremos a função read_csv do pandas;\n",
    "- O separador de colunas deste arquivo é \";\" e indicaremos isto com o argumento \"sep='; \"';\n",
    "- O arquivo foi construído com unicode ANSI e indicaremos isto com o argumento \"encoding='ANSI\";\n",
    "- O arquivo não possui títulos para as colunas e precisamos especificar esta informação pare evitar a \"promoção\" da primeira linha como título da coluna, para isto utilizaremos o argumento \"header=None\";\n",
    "- Passaremos a lista de titulos \"titulos_colum\" para o argumento \"names=\" que fará a atribuição dos títulos ao dataframe.\n",
    "\n",
    "Dadas as observações criamos duas variáveis para armazenar o caminho do arquivo e títulos das colunas \n"
   ]
  },
  {
   "cell_type": "code",
   "execution_count": 4,
   "id": "e538bd8b",
   "metadata": {},
   "outputs": [],
   "source": [
    "#caminho do arquivo\n",
    "caminho_dados = \"C:/Users/humberto.araujo.ext/OneDrive - Cimento Nacional/ATIVIDADES/2025-06-23_geoint/ENTRADAS/estab_01.csv\"\n",
    "\n",
    "#Nome das colunas para reatribuição\n",
    "titulos_colum = [\n",
    "    \"cnpj_basico\",\n",
    "    \"cnpj_ordem\",\n",
    "    \"cnjp_dv\",\n",
    "    \"identificador_matriz\",\n",
    "    \"nome_fantasia\",\n",
    "    \"situacao_cadastral\",\n",
    "    \"data_situacao\",\n",
    "    \"motivo_situacao\",\n",
    "    \"nome_cidade_exterior\",\n",
    "    \"pais\",\n",
    "    \"data_inicio_atv\",\n",
    "    \"CNAE_principal\",\n",
    "    \"CNAE_secundario\",\n",
    "    \"tipo_logradouro\",\n",
    "    \"logradouro\",\n",
    "    \"numero_logra\",\n",
    "    \"complemento\",\n",
    "    \"bairro\",\n",
    "    \"CEP\",\n",
    "    \"UF\",\n",
    "    \"municipio\",\n",
    "    \"ddd1\",\"telefone1\",\n",
    "    \"ddd2\",\"telefone2\",\n",
    "    \"ddd_fax\",'fax',\n",
    "    \"email\",\n",
    "    \"situacao_especial\",\n",
    "    \"data_situacao_especial\"\n",
    "]"
   ]
  },
  {
   "cell_type": "markdown",
   "id": "10426d85",
   "metadata": {},
   "source": [
    "Após a construção das variáveis de apoio realizaremos a carga dos dados com seus devidos cuidados(separador, codificação,título)."
   ]
  },
  {
   "cell_type": "code",
   "execution_count": null,
   "id": "bff2c589",
   "metadata": {},
   "outputs": [
    {
     "name": "stderr",
     "output_type": "stream",
     "text": [
      "C:\\Users\\humberto.araujo.ext\\AppData\\Local\\Temp\\ipykernel_47888\\3134606272.py:2: DtypeWarning: Columns (8,21,22,24,26,28) have mixed types. Specify dtype option on import or set low_memory=False.\n",
      "  df_RF_01 = pd.read_csv(caminho_dados,sep=';',encoding='ANSI', header=None,names=titulos_colum)\n"
     ]
    },
    {
     "data": {
      "application/vnd.microsoft.datawrangler.viewer.v0+json": {
       "columns": [
        {
         "name": "index",
         "rawType": "int64",
         "type": "integer"
        },
        {
         "name": "cnpj_basico",
         "rawType": "int64",
         "type": "integer"
        },
        {
         "name": "cnpj_ordem",
         "rawType": "int64",
         "type": "integer"
        },
        {
         "name": "cnjp_dv",
         "rawType": "int64",
         "type": "integer"
        },
        {
         "name": "identificador_matriz",
         "rawType": "int64",
         "type": "integer"
        },
        {
         "name": "nome_fantasia",
         "rawType": "object",
         "type": "unknown"
        },
        {
         "name": "situacao_cadastral",
         "rawType": "int64",
         "type": "integer"
        },
        {
         "name": "data_situacao",
         "rawType": "int64",
         "type": "integer"
        },
        {
         "name": "motivo_situacao",
         "rawType": "int64",
         "type": "integer"
        },
        {
         "name": "nome_cidade_exterior",
         "rawType": "object",
         "type": "unknown"
        },
        {
         "name": "pais",
         "rawType": "float64",
         "type": "float"
        },
        {
         "name": "data_inicio_atv",
         "rawType": "int64",
         "type": "integer"
        },
        {
         "name": "CNAE_principal",
         "rawType": "int64",
         "type": "integer"
        },
        {
         "name": "CNAE_secundario",
         "rawType": "object",
         "type": "string"
        },
        {
         "name": "tipo_logradouro",
         "rawType": "object",
         "type": "string"
        },
        {
         "name": "logradouro",
         "rawType": "object",
         "type": "string"
        },
        {
         "name": "numero_logra",
         "rawType": "object",
         "type": "string"
        },
        {
         "name": "complemento",
         "rawType": "object",
         "type": "unknown"
        },
        {
         "name": "bairro",
         "rawType": "object",
         "type": "string"
        },
        {
         "name": "CEP",
         "rawType": "float64",
         "type": "float"
        },
        {
         "name": "UF",
         "rawType": "object",
         "type": "string"
        },
        {
         "name": "municipio",
         "rawType": "int64",
         "type": "integer"
        },
        {
         "name": "ddd1",
         "rawType": "object",
         "type": "unknown"
        },
        {
         "name": "telefone1",
         "rawType": "object",
         "type": "string"
        },
        {
         "name": "ddd2",
         "rawType": "float64",
         "type": "float"
        },
        {
         "name": "telefone2",
         "rawType": "object",
         "type": "unknown"
        },
        {
         "name": "ddd_fax",
         "rawType": "float64",
         "type": "float"
        },
        {
         "name": "fax",
         "rawType": "object",
         "type": "string"
        },
        {
         "name": "email",
         "rawType": "object",
         "type": "unknown"
        },
        {
         "name": "situacao_especial",
         "rawType": "object",
         "type": "unknown"
        },
        {
         "name": "data_situacao_especial",
         "rawType": "float64",
         "type": "float"
        }
       ],
       "ref": "1153e3d0-7037-403f-8a91-283d925b8dac",
       "rows": [
        [
         "0",
         "7396865",
         "1",
         "68",
         "1",
         null,
         "8",
         "20170210",
         "1",
         null,
         null,
         "20050518",
         "1412602",
         "1411801",
         "RUA",
         "TUCANEIRA",
         "30",
         null,
         "DOS LAGOS",
         "89136000.0",
         "SC",
         "8297",
         "47.0",
         "33851125",
         "47.0",
         "33851125.0",
         "47.0",
         "33851125",
         null,
         null,
         null
        ],
        [
         "1",
         "64904295",
         "18",
         "51",
         "2",
         null,
         "8",
         "20161110",
         "1",
         null,
         null,
         "20050429",
         "4639701",
         "4637199",
         "AVENIDA",
         "MENINO MARCELO",
         "8551B",
         "LOTE  2                   QUADRAF",
         "SERRARIA",
         "57046000.0",
         "AL",
         "2785",
         "11.0",
         "36491000",
         "31.0",
         "33880436.0",
         "82.0",
         "33118379",
         "CLAUDIO.GIGLIO@CAMIL.COM.BR",
         null,
         null
        ]
       ],
       "shape": {
        "columns": 30,
        "rows": 2
       }
      },
      "text/html": [
       "<div>\n",
       "<style scoped>\n",
       "    .dataframe tbody tr th:only-of-type {\n",
       "        vertical-align: middle;\n",
       "    }\n",
       "\n",
       "    .dataframe tbody tr th {\n",
       "        vertical-align: top;\n",
       "    }\n",
       "\n",
       "    .dataframe thead th {\n",
       "        text-align: right;\n",
       "    }\n",
       "</style>\n",
       "<table border=\"1\" class=\"dataframe\">\n",
       "  <thead>\n",
       "    <tr style=\"text-align: right;\">\n",
       "      <th></th>\n",
       "      <th>cnpj_basico</th>\n",
       "      <th>cnpj_ordem</th>\n",
       "      <th>cnjp_dv</th>\n",
       "      <th>identificador_matriz</th>\n",
       "      <th>nome_fantasia</th>\n",
       "      <th>situacao_cadastral</th>\n",
       "      <th>data_situacao</th>\n",
       "      <th>motivo_situacao</th>\n",
       "      <th>nome_cidade_exterior</th>\n",
       "      <th>pais</th>\n",
       "      <th>...</th>\n",
       "      <th>municipio</th>\n",
       "      <th>ddd1</th>\n",
       "      <th>telefone1</th>\n",
       "      <th>ddd2</th>\n",
       "      <th>telefone2</th>\n",
       "      <th>ddd_fax</th>\n",
       "      <th>fax</th>\n",
       "      <th>email</th>\n",
       "      <th>situacao_especial</th>\n",
       "      <th>data_situacao_especial</th>\n",
       "    </tr>\n",
       "  </thead>\n",
       "  <tbody>\n",
       "    <tr>\n",
       "      <th>0</th>\n",
       "      <td>7396865</td>\n",
       "      <td>1</td>\n",
       "      <td>68</td>\n",
       "      <td>1</td>\n",
       "      <td>NaN</td>\n",
       "      <td>8</td>\n",
       "      <td>20170210</td>\n",
       "      <td>1</td>\n",
       "      <td>NaN</td>\n",
       "      <td>NaN</td>\n",
       "      <td>...</td>\n",
       "      <td>8297</td>\n",
       "      <td>47.0</td>\n",
       "      <td>33851125</td>\n",
       "      <td>47.0</td>\n",
       "      <td>33851125.0</td>\n",
       "      <td>47.0</td>\n",
       "      <td>33851125</td>\n",
       "      <td>NaN</td>\n",
       "      <td>NaN</td>\n",
       "      <td>NaN</td>\n",
       "    </tr>\n",
       "    <tr>\n",
       "      <th>1</th>\n",
       "      <td>64904295</td>\n",
       "      <td>18</td>\n",
       "      <td>51</td>\n",
       "      <td>2</td>\n",
       "      <td>NaN</td>\n",
       "      <td>8</td>\n",
       "      <td>20161110</td>\n",
       "      <td>1</td>\n",
       "      <td>NaN</td>\n",
       "      <td>NaN</td>\n",
       "      <td>...</td>\n",
       "      <td>2785</td>\n",
       "      <td>11.0</td>\n",
       "      <td>36491000</td>\n",
       "      <td>31.0</td>\n",
       "      <td>33880436.0</td>\n",
       "      <td>82.0</td>\n",
       "      <td>33118379</td>\n",
       "      <td>CLAUDIO.GIGLIO@CAMIL.COM.BR</td>\n",
       "      <td>NaN</td>\n",
       "      <td>NaN</td>\n",
       "    </tr>\n",
       "  </tbody>\n",
       "</table>\n",
       "<p>2 rows × 30 columns</p>\n",
       "</div>"
      ],
      "text/plain": [
       "   cnpj_basico  cnpj_ordem  cnjp_dv  identificador_matriz nome_fantasia  \\\n",
       "0      7396865           1       68                     1           NaN   \n",
       "1     64904295          18       51                     2           NaN   \n",
       "\n",
       "   situacao_cadastral  data_situacao  motivo_situacao nome_cidade_exterior  \\\n",
       "0                   8       20170210                1                  NaN   \n",
       "1                   8       20161110                1                  NaN   \n",
       "\n",
       "   pais  ...  municipio  ddd1 telefone1  ddd2   telefone2 ddd_fax       fax  \\\n",
       "0   NaN  ...       8297  47.0  33851125  47.0  33851125.0    47.0  33851125   \n",
       "1   NaN  ...       2785  11.0  36491000  31.0  33880436.0    82.0  33118379   \n",
       "\n",
       "                         email  situacao_especial data_situacao_especial  \n",
       "0                          NaN                NaN                    NaN  \n",
       "1  CLAUDIO.GIGLIO@CAMIL.COM.BR                NaN                    NaN  \n",
       "\n",
       "[2 rows x 30 columns]"
      ]
     },
     "execution_count": 5,
     "metadata": {},
     "output_type": "execute_result"
    }
   ],
   "source": [
    "#carga dos dados\n",
    "df_RF_01 = pd.read_csv(caminho_dados,sep=';',encoding='ANSI', header=None,names=titulos_colum)"
   ]
  },
  {
   "cell_type": "markdown",
   "id": "18054919",
   "metadata": {},
   "source": [
    "Nosso objetivo é listar apenas as empresas em situação ativa, neste sentido raelizaremos um filtro na coluna \"situacao_cadastral\" para todos os correspondentes ao valor \"2\" que conforme dicionário de dados corresponde as empresas ativas."
   ]
  },
  {
   "cell_type": "code",
   "execution_count": 18,
   "id": "5d4dcc60",
   "metadata": {},
   "outputs": [
    {
     "data": {
      "application/vnd.microsoft.datawrangler.viewer.v0+json": {
       "columns": [
        {
         "name": "index",
         "rawType": "int64",
         "type": "integer"
        },
        {
         "name": "cnpj_basico",
         "rawType": "int64",
         "type": "integer"
        },
        {
         "name": "cnpj_ordem",
         "rawType": "int64",
         "type": "integer"
        },
        {
         "name": "cnjp_dv",
         "rawType": "int64",
         "type": "integer"
        },
        {
         "name": "identificador_matriz",
         "rawType": "int64",
         "type": "integer"
        },
        {
         "name": "nome_fantasia",
         "rawType": "object",
         "type": "unknown"
        },
        {
         "name": "situacao_cadastral",
         "rawType": "int64",
         "type": "integer"
        },
        {
         "name": "data_situacao",
         "rawType": "int64",
         "type": "integer"
        },
        {
         "name": "motivo_situacao",
         "rawType": "int64",
         "type": "integer"
        },
        {
         "name": "nome_cidade_exterior",
         "rawType": "object",
         "type": "unknown"
        },
        {
         "name": "pais",
         "rawType": "float64",
         "type": "float"
        },
        {
         "name": "data_inicio_atv",
         "rawType": "int64",
         "type": "integer"
        },
        {
         "name": "CNAE_principal",
         "rawType": "int64",
         "type": "integer"
        },
        {
         "name": "CNAE_secundario",
         "rawType": "object",
         "type": "unknown"
        },
        {
         "name": "tipo_logradouro",
         "rawType": "object",
         "type": "string"
        },
        {
         "name": "logradouro",
         "rawType": "object",
         "type": "string"
        },
        {
         "name": "numero_logra",
         "rawType": "object",
         "type": "string"
        },
        {
         "name": "complemento",
         "rawType": "object",
         "type": "string"
        },
        {
         "name": "bairro",
         "rawType": "object",
         "type": "string"
        },
        {
         "name": "CEP",
         "rawType": "float64",
         "type": "float"
        },
        {
         "name": "UF",
         "rawType": "object",
         "type": "string"
        },
        {
         "name": "municipio",
         "rawType": "int64",
         "type": "integer"
        },
        {
         "name": "ddd1",
         "rawType": "object",
         "type": "unknown"
        },
        {
         "name": "telefone1",
         "rawType": "object",
         "type": "unknown"
        },
        {
         "name": "ddd2",
         "rawType": "float64",
         "type": "float"
        },
        {
         "name": "telefone2",
         "rawType": "object",
         "type": "unknown"
        },
        {
         "name": "ddd_fax",
         "rawType": "float64",
         "type": "float"
        },
        {
         "name": "fax",
         "rawType": "object",
         "type": "unknown"
        },
        {
         "name": "email",
         "rawType": "object",
         "type": "unknown"
        },
        {
         "name": "situacao_especial",
         "rawType": "object",
         "type": "unknown"
        },
        {
         "name": "data_situacao_especial",
         "rawType": "float64",
         "type": "float"
        }
       ],
       "ref": "5b947551-e31d-4f68-8891-af5c4ee3eeba",
       "rows": [
        [
         "12",
         "591451",
         "1",
         "40",
         "1",
         "QUIM-BASE",
         "2",
         "20051103",
         "0",
         null,
         null,
         "19950417",
         "4623109",
         "4618499",
         "RUA",
         "CORIOLANO DURAND",
         "370",
         "SALA: 3;",
         "VILA SANTA CATARINA",
         "4375050.0",
         "SP",
         "7107",
         "11.0",
         "56415044",
         null,
         null,
         "11.0",
         "56415044",
         "UTILEX.LEGAL@BOL.COM.BR",
         null,
         null
        ],
        [
         "16",
         "7396980",
         "1",
         "32",
         "1",
         null,
         "2",
         "0",
         "0",
         null,
         null,
         "20050520",
         "4530703",
         null,
         "RUA",
         "JOSE ROSSI",
         "1533",
         "FUNDOS",
         "CENTRO",
         "14900000.0",
         "SP",
         "6555",
         null,
         null,
         null,
         null,
         null,
         null,
         null,
         null,
         null
        ]
       ],
       "shape": {
        "columns": 30,
        "rows": 2
       }
      },
      "text/html": [
       "<div>\n",
       "<style scoped>\n",
       "    .dataframe tbody tr th:only-of-type {\n",
       "        vertical-align: middle;\n",
       "    }\n",
       "\n",
       "    .dataframe tbody tr th {\n",
       "        vertical-align: top;\n",
       "    }\n",
       "\n",
       "    .dataframe thead th {\n",
       "        text-align: right;\n",
       "    }\n",
       "</style>\n",
       "<table border=\"1\" class=\"dataframe\">\n",
       "  <thead>\n",
       "    <tr style=\"text-align: right;\">\n",
       "      <th></th>\n",
       "      <th>cnpj_basico</th>\n",
       "      <th>cnpj_ordem</th>\n",
       "      <th>cnjp_dv</th>\n",
       "      <th>identificador_matriz</th>\n",
       "      <th>nome_fantasia</th>\n",
       "      <th>situacao_cadastral</th>\n",
       "      <th>data_situacao</th>\n",
       "      <th>motivo_situacao</th>\n",
       "      <th>nome_cidade_exterior</th>\n",
       "      <th>pais</th>\n",
       "      <th>...</th>\n",
       "      <th>municipio</th>\n",
       "      <th>ddd1</th>\n",
       "      <th>telefone1</th>\n",
       "      <th>ddd2</th>\n",
       "      <th>telefone2</th>\n",
       "      <th>ddd_fax</th>\n",
       "      <th>fax</th>\n",
       "      <th>email</th>\n",
       "      <th>situacao_especial</th>\n",
       "      <th>data_situacao_especial</th>\n",
       "    </tr>\n",
       "  </thead>\n",
       "  <tbody>\n",
       "    <tr>\n",
       "      <th>12</th>\n",
       "      <td>591451</td>\n",
       "      <td>1</td>\n",
       "      <td>40</td>\n",
       "      <td>1</td>\n",
       "      <td>QUIM-BASE</td>\n",
       "      <td>2</td>\n",
       "      <td>20051103</td>\n",
       "      <td>0</td>\n",
       "      <td>NaN</td>\n",
       "      <td>NaN</td>\n",
       "      <td>...</td>\n",
       "      <td>7107</td>\n",
       "      <td>11.0</td>\n",
       "      <td>56415044</td>\n",
       "      <td>NaN</td>\n",
       "      <td>NaN</td>\n",
       "      <td>11.0</td>\n",
       "      <td>56415044</td>\n",
       "      <td>UTILEX.LEGAL@BOL.COM.BR</td>\n",
       "      <td>NaN</td>\n",
       "      <td>NaN</td>\n",
       "    </tr>\n",
       "    <tr>\n",
       "      <th>16</th>\n",
       "      <td>7396980</td>\n",
       "      <td>1</td>\n",
       "      <td>32</td>\n",
       "      <td>1</td>\n",
       "      <td>NaN</td>\n",
       "      <td>2</td>\n",
       "      <td>0</td>\n",
       "      <td>0</td>\n",
       "      <td>NaN</td>\n",
       "      <td>NaN</td>\n",
       "      <td>...</td>\n",
       "      <td>6555</td>\n",
       "      <td>NaN</td>\n",
       "      <td>NaN</td>\n",
       "      <td>NaN</td>\n",
       "      <td>NaN</td>\n",
       "      <td>NaN</td>\n",
       "      <td>NaN</td>\n",
       "      <td>NaN</td>\n",
       "      <td>NaN</td>\n",
       "      <td>NaN</td>\n",
       "    </tr>\n",
       "  </tbody>\n",
       "</table>\n",
       "<p>2 rows × 30 columns</p>\n",
       "</div>"
      ],
      "text/plain": [
       "    cnpj_basico  cnpj_ordem  cnjp_dv  identificador_matriz nome_fantasia  \\\n",
       "12       591451           1       40                     1     QUIM-BASE   \n",
       "16      7396980           1       32                     1           NaN   \n",
       "\n",
       "    situacao_cadastral  data_situacao  motivo_situacao nome_cidade_exterior  \\\n",
       "12                   2       20051103                0                  NaN   \n",
       "16                   2              0                0                  NaN   \n",
       "\n",
       "    pais  ...  municipio  ddd1 telefone1 ddd2 telefone2 ddd_fax       fax  \\\n",
       "12   NaN  ...       7107  11.0  56415044  NaN       NaN    11.0  56415044   \n",
       "16   NaN  ...       6555   NaN       NaN  NaN       NaN     NaN       NaN   \n",
       "\n",
       "                      email  situacao_especial data_situacao_especial  \n",
       "12  UTILEX.LEGAL@BOL.COM.BR                NaN                    NaN  \n",
       "16                      NaN                NaN                    NaN  \n",
       "\n",
       "[2 rows x 30 columns]"
      ]
     },
     "execution_count": 18,
     "metadata": {},
     "output_type": "execute_result"
    }
   ],
   "source": [
    "#filtro de cnpj's ativos\n",
    "df_RF_ativos = df_RF_01[df_RF_01['situacao_cadastral']==2 ]\n",
    "df_RF_ativos.head(2)"
   ]
  },
  {
   "cell_type": "markdown",
   "id": "a25c1553",
   "metadata": {},
   "source": [
    "Faremos a remoção das colunas não interessantes ao nosso objetivo"
   ]
  },
  {
   "cell_type": "code",
   "execution_count": null,
   "id": "f9d28101",
   "metadata": {},
   "outputs": [
    {
     "ename": "KeyError",
     "evalue": "\"['situacao_cadastral', 'data_situacao', 'motivo_situacao', 'nome_cidade_exterior', 'pais', 'situacao_especial', 'data_situacao_especial'] not found in axis\"",
     "output_type": "error",
     "traceback": [
      "\u001b[1;31m---------------------------------------------------------------------------\u001b[0m",
      "\u001b[1;31mKeyError\u001b[0m                                  Traceback (most recent call last)",
      "Cell \u001b[1;32mIn[22], line 1\u001b[0m\n\u001b[1;32m----> 1\u001b[0m df_RF_ativos \u001b[38;5;241m=\u001b[39m \u001b[43mdf_RF_ativos\u001b[49m\u001b[38;5;241;43m.\u001b[39;49m\u001b[43mdrop\u001b[49m\u001b[43m(\u001b[49m\u001b[43m[\u001b[49m\u001b[38;5;124;43m'\u001b[39;49m\u001b[38;5;124;43msituacao_cadastral\u001b[39;49m\u001b[38;5;124;43m'\u001b[39;49m\u001b[43m,\u001b[49m\u001b[38;5;124;43m'\u001b[39;49m\u001b[38;5;124;43mdata_situacao\u001b[39;49m\u001b[38;5;124;43m'\u001b[39;49m\u001b[43m,\u001b[49m\u001b[38;5;124;43m'\u001b[39;49m\u001b[38;5;124;43mmotivo_situacao\u001b[39;49m\u001b[38;5;124;43m'\u001b[39;49m\u001b[43m,\u001b[49m\u001b[38;5;124;43m'\u001b[39;49m\u001b[38;5;124;43mnome_cidade_exterior\u001b[39;49m\u001b[38;5;124;43m'\u001b[39;49m\u001b[43m,\u001b[49m\u001b[38;5;124;43m'\u001b[39;49m\u001b[38;5;124;43mpais\u001b[39;49m\u001b[38;5;124;43m'\u001b[39;49m\u001b[43m,\u001b[49m\u001b[38;5;124;43m'\u001b[39;49m\u001b[38;5;124;43msituacao_especial\u001b[39;49m\u001b[38;5;124;43m'\u001b[39;49m\u001b[43m,\u001b[49m\u001b[38;5;124;43m'\u001b[39;49m\u001b[38;5;124;43mdata_situacao_especial\u001b[39;49m\u001b[38;5;124;43m'\u001b[39;49m\u001b[43m]\u001b[49m\u001b[43m,\u001b[49m\u001b[43m \u001b[49m\u001b[43maxis\u001b[49m\u001b[38;5;241;43m=\u001b[39;49m\u001b[38;5;241;43m1\u001b[39;49m\u001b[43m)\u001b[49m\n",
      "File \u001b[1;32mc:\\Users\\humberto.araujo.ext\\AppData\\Local\\Programs\\Python\\Python312\\Lib\\site-packages\\pandas\\core\\frame.py:5581\u001b[0m, in \u001b[0;36mDataFrame.drop\u001b[1;34m(self, labels, axis, index, columns, level, inplace, errors)\u001b[0m\n\u001b[0;32m   5433\u001b[0m \u001b[38;5;28;01mdef\u001b[39;00m \u001b[38;5;21mdrop\u001b[39m(\n\u001b[0;32m   5434\u001b[0m     \u001b[38;5;28mself\u001b[39m,\n\u001b[0;32m   5435\u001b[0m     labels: IndexLabel \u001b[38;5;241m|\u001b[39m \u001b[38;5;28;01mNone\u001b[39;00m \u001b[38;5;241m=\u001b[39m \u001b[38;5;28;01mNone\u001b[39;00m,\n\u001b[1;32m   (...)\u001b[0m\n\u001b[0;32m   5442\u001b[0m     errors: IgnoreRaise \u001b[38;5;241m=\u001b[39m \u001b[38;5;124m\"\u001b[39m\u001b[38;5;124mraise\u001b[39m\u001b[38;5;124m\"\u001b[39m,\n\u001b[0;32m   5443\u001b[0m ) \u001b[38;5;241m-\u001b[39m\u001b[38;5;241m>\u001b[39m DataFrame \u001b[38;5;241m|\u001b[39m \u001b[38;5;28;01mNone\u001b[39;00m:\n\u001b[0;32m   5444\u001b[0m \u001b[38;5;250m    \u001b[39m\u001b[38;5;124;03m\"\"\"\u001b[39;00m\n\u001b[0;32m   5445\u001b[0m \u001b[38;5;124;03m    Drop specified labels from rows or columns.\u001b[39;00m\n\u001b[0;32m   5446\u001b[0m \n\u001b[1;32m   (...)\u001b[0m\n\u001b[0;32m   5579\u001b[0m \u001b[38;5;124;03m            weight  1.0     0.8\u001b[39;00m\n\u001b[0;32m   5580\u001b[0m \u001b[38;5;124;03m    \"\"\"\u001b[39;00m\n\u001b[1;32m-> 5581\u001b[0m     \u001b[38;5;28;01mreturn\u001b[39;00m \u001b[38;5;28;43msuper\u001b[39;49m\u001b[43m(\u001b[49m\u001b[43m)\u001b[49m\u001b[38;5;241;43m.\u001b[39;49m\u001b[43mdrop\u001b[49m\u001b[43m(\u001b[49m\n\u001b[0;32m   5582\u001b[0m \u001b[43m        \u001b[49m\u001b[43mlabels\u001b[49m\u001b[38;5;241;43m=\u001b[39;49m\u001b[43mlabels\u001b[49m\u001b[43m,\u001b[49m\n\u001b[0;32m   5583\u001b[0m \u001b[43m        \u001b[49m\u001b[43maxis\u001b[49m\u001b[38;5;241;43m=\u001b[39;49m\u001b[43maxis\u001b[49m\u001b[43m,\u001b[49m\n\u001b[0;32m   5584\u001b[0m \u001b[43m        \u001b[49m\u001b[43mindex\u001b[49m\u001b[38;5;241;43m=\u001b[39;49m\u001b[43mindex\u001b[49m\u001b[43m,\u001b[49m\n\u001b[0;32m   5585\u001b[0m \u001b[43m        \u001b[49m\u001b[43mcolumns\u001b[49m\u001b[38;5;241;43m=\u001b[39;49m\u001b[43mcolumns\u001b[49m\u001b[43m,\u001b[49m\n\u001b[0;32m   5586\u001b[0m \u001b[43m        \u001b[49m\u001b[43mlevel\u001b[49m\u001b[38;5;241;43m=\u001b[39;49m\u001b[43mlevel\u001b[49m\u001b[43m,\u001b[49m\n\u001b[0;32m   5587\u001b[0m \u001b[43m        \u001b[49m\u001b[43minplace\u001b[49m\u001b[38;5;241;43m=\u001b[39;49m\u001b[43minplace\u001b[49m\u001b[43m,\u001b[49m\n\u001b[0;32m   5588\u001b[0m \u001b[43m        \u001b[49m\u001b[43merrors\u001b[49m\u001b[38;5;241;43m=\u001b[39;49m\u001b[43merrors\u001b[49m\u001b[43m,\u001b[49m\n\u001b[0;32m   5589\u001b[0m \u001b[43m    \u001b[49m\u001b[43m)\u001b[49m\n",
      "File \u001b[1;32mc:\\Users\\humberto.araujo.ext\\AppData\\Local\\Programs\\Python\\Python312\\Lib\\site-packages\\pandas\\core\\generic.py:4788\u001b[0m, in \u001b[0;36mNDFrame.drop\u001b[1;34m(self, labels, axis, index, columns, level, inplace, errors)\u001b[0m\n\u001b[0;32m   4786\u001b[0m \u001b[38;5;28;01mfor\u001b[39;00m axis, labels \u001b[38;5;129;01min\u001b[39;00m axes\u001b[38;5;241m.\u001b[39mitems():\n\u001b[0;32m   4787\u001b[0m     \u001b[38;5;28;01mif\u001b[39;00m labels \u001b[38;5;129;01mis\u001b[39;00m \u001b[38;5;129;01mnot\u001b[39;00m \u001b[38;5;28;01mNone\u001b[39;00m:\n\u001b[1;32m-> 4788\u001b[0m         obj \u001b[38;5;241m=\u001b[39m \u001b[43mobj\u001b[49m\u001b[38;5;241;43m.\u001b[39;49m\u001b[43m_drop_axis\u001b[49m\u001b[43m(\u001b[49m\u001b[43mlabels\u001b[49m\u001b[43m,\u001b[49m\u001b[43m \u001b[49m\u001b[43maxis\u001b[49m\u001b[43m,\u001b[49m\u001b[43m \u001b[49m\u001b[43mlevel\u001b[49m\u001b[38;5;241;43m=\u001b[39;49m\u001b[43mlevel\u001b[49m\u001b[43m,\u001b[49m\u001b[43m \u001b[49m\u001b[43merrors\u001b[49m\u001b[38;5;241;43m=\u001b[39;49m\u001b[43merrors\u001b[49m\u001b[43m)\u001b[49m\n\u001b[0;32m   4790\u001b[0m \u001b[38;5;28;01mif\u001b[39;00m inplace:\n\u001b[0;32m   4791\u001b[0m     \u001b[38;5;28mself\u001b[39m\u001b[38;5;241m.\u001b[39m_update_inplace(obj)\n",
      "File \u001b[1;32mc:\\Users\\humberto.araujo.ext\\AppData\\Local\\Programs\\Python\\Python312\\Lib\\site-packages\\pandas\\core\\generic.py:4830\u001b[0m, in \u001b[0;36mNDFrame._drop_axis\u001b[1;34m(self, labels, axis, level, errors, only_slice)\u001b[0m\n\u001b[0;32m   4828\u001b[0m         new_axis \u001b[38;5;241m=\u001b[39m axis\u001b[38;5;241m.\u001b[39mdrop(labels, level\u001b[38;5;241m=\u001b[39mlevel, errors\u001b[38;5;241m=\u001b[39merrors)\n\u001b[0;32m   4829\u001b[0m     \u001b[38;5;28;01melse\u001b[39;00m:\n\u001b[1;32m-> 4830\u001b[0m         new_axis \u001b[38;5;241m=\u001b[39m \u001b[43maxis\u001b[49m\u001b[38;5;241;43m.\u001b[39;49m\u001b[43mdrop\u001b[49m\u001b[43m(\u001b[49m\u001b[43mlabels\u001b[49m\u001b[43m,\u001b[49m\u001b[43m \u001b[49m\u001b[43merrors\u001b[49m\u001b[38;5;241;43m=\u001b[39;49m\u001b[43merrors\u001b[49m\u001b[43m)\u001b[49m\n\u001b[0;32m   4831\u001b[0m     indexer \u001b[38;5;241m=\u001b[39m axis\u001b[38;5;241m.\u001b[39mget_indexer(new_axis)\n\u001b[0;32m   4833\u001b[0m \u001b[38;5;66;03m# Case for non-unique axis\u001b[39;00m\n\u001b[0;32m   4834\u001b[0m \u001b[38;5;28;01melse\u001b[39;00m:\n",
      "File \u001b[1;32mc:\\Users\\humberto.araujo.ext\\AppData\\Local\\Programs\\Python\\Python312\\Lib\\site-packages\\pandas\\core\\indexes\\base.py:7070\u001b[0m, in \u001b[0;36mIndex.drop\u001b[1;34m(self, labels, errors)\u001b[0m\n\u001b[0;32m   7068\u001b[0m \u001b[38;5;28;01mif\u001b[39;00m mask\u001b[38;5;241m.\u001b[39many():\n\u001b[0;32m   7069\u001b[0m     \u001b[38;5;28;01mif\u001b[39;00m errors \u001b[38;5;241m!=\u001b[39m \u001b[38;5;124m\"\u001b[39m\u001b[38;5;124mignore\u001b[39m\u001b[38;5;124m\"\u001b[39m:\n\u001b[1;32m-> 7070\u001b[0m         \u001b[38;5;28;01mraise\u001b[39;00m \u001b[38;5;167;01mKeyError\u001b[39;00m(\u001b[38;5;124mf\u001b[39m\u001b[38;5;124m\"\u001b[39m\u001b[38;5;132;01m{\u001b[39;00mlabels[mask]\u001b[38;5;241m.\u001b[39mtolist()\u001b[38;5;132;01m}\u001b[39;00m\u001b[38;5;124m not found in axis\u001b[39m\u001b[38;5;124m\"\u001b[39m)\n\u001b[0;32m   7071\u001b[0m     indexer \u001b[38;5;241m=\u001b[39m indexer[\u001b[38;5;241m~\u001b[39mmask]\n\u001b[0;32m   7072\u001b[0m \u001b[38;5;28;01mreturn\u001b[39;00m \u001b[38;5;28mself\u001b[39m\u001b[38;5;241m.\u001b[39mdelete(indexer)\n",
      "\u001b[1;31mKeyError\u001b[0m: \"['situacao_cadastral', 'data_situacao', 'motivo_situacao', 'nome_cidade_exterior', 'pais', 'situacao_especial', 'data_situacao_especial'] not found in axis\""
     ]
    }
   ],
   "source": [
    "#drop de colunas\n",
    "df_RF_ativos = df_RF_ativos.drop(['situacao_cadastral','data_situacao','motivo_situacao','nome_cidade_exterior','pais','situacao_especial','data_situacao_especial'], axis=1)"
   ]
  },
  {
   "cell_type": "markdown",
   "id": "22ab4fec",
   "metadata": {},
   "source": [
    "Por fim, faremos um filtro de estado e salvaremos o resultado em um arquivo do tipo csv"
   ]
  },
  {
   "cell_type": "code",
   "execution_count": 23,
   "id": "0fc875d3",
   "metadata": {},
   "outputs": [],
   "source": [
    "#Filtro para coletar dados do estado de pernambuco\n",
    "df_RF_PE = df_RF_ativos[df_RF_ativos['UF']=='PE']\n",
    "\n",
    "#Exportando os valores salvos em um arquivo do tipo csv\n",
    "df_RF_PE.to_csv('Dados_pe/pe_01')"
   ]
  },
  {
   "cell_type": "markdown",
   "id": "bd846d5f",
   "metadata": {},
   "source": [
    "### Funçao para limpeza dos dados\n",
    "\n",
    "Como visto o processo de limepeza ocorreu conforme o desejado e neste ponto criaremos uma função que realize o processamento dos demais arquivos"
   ]
  },
  {
   "cell_type": "code",
   "execution_count": null,
   "id": "d00d1c04",
   "metadata": {},
   "outputs": [],
   "source": [
    "def pre_limpeza(lista_arquivos ,destino_salvamento):\n",
    "\n",
    "    for i in lista_arquivos:\n",
    "    "
   ]
  }
 ],
 "metadata": {
  "kernelspec": {
   "display_name": "Python 3",
   "language": "python",
   "name": "python3"
  },
  "language_info": {
   "codemirror_mode": {
    "name": "ipython",
    "version": 3
   },
   "file_extension": ".py",
   "mimetype": "text/x-python",
   "name": "python",
   "nbconvert_exporter": "python",
   "pygments_lexer": "ipython3",
   "version": "3.12.4"
  }
 },
 "nbformat": 4,
 "nbformat_minor": 5
}
