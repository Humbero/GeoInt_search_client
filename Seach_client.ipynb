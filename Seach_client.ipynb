{
 "cells": [
  {
   "cell_type": "markdown",
   "id": "8b4cf420",
   "metadata": {},
   "source": [
    "# Mapa interativo para busca de clientes no estado de Pernambuco"
   ]
  },
  {
   "cell_type": "markdown",
   "id": "2dd66228",
   "metadata": {},
   "source": [
    "## Bibliotecas utilizadas no projeto\n"
   ]
  },
  {
   "cell_type": "code",
   "execution_count": 1,
   "id": "74362059",
   "metadata": {},
   "outputs": [
    {
     "name": "stderr",
     "output_type": "stream",
     "text": [
      "c:\\Program Files\\python\\Lib\\site-packages\\keplergl\\keplergl.py:13: UserWarning: pkg_resources is deprecated as an API. See https://setuptools.pypa.io/en/latest/pkg_resources.html. The pkg_resources package is slated for removal as early as 2025-11-30. Refrain from using this package or pin to Setuptools<81.\n",
      "  from pkg_resources import resource_string\n"
     ]
    }
   ],
   "source": [
    "import pandas as pd\n",
    "import geopandas as gd\n",
    "import keplergl as kp"
   ]
  },
  {
   "cell_type": "markdown",
   "id": "dfcd55be",
   "metadata": {},
   "source": [
    "## Limpeza e tratamento dos dados da receita federal\n",
    "\n",
    "O volume de dados fornecido pela Receita Federal é elevado, porém segue um único padrão que facilitará o processo como um todo. Tendo em vista este padrão, realizaremos o tratamento de um dos conjuntos de dados e construiremos uma função para tratamento dos demais conjuntos de dados."
   ]
  },
  {
   "cell_type": "markdown",
   "id": "6f4747a5",
   "metadata": {},
   "source": [
    "OBS: temos algumas informações relevantes sobre o arquivo que são necessárias ao correto carregamento dos dados no pandas, são elas:\n",
    "- O arquivo é do tipo CSV, logo, utilizaremos a função read_csv do pandas;\n",
    "- O separador de colunas deste arquivo é \";\" e indicaremos isto com o argumento \"sep='; \"';\n",
    "- O arquivo foi construído com unicode ANSI e indicaremos isto com o argumento \"encoding='ANSI\";\n",
    "- O arquivo não possui títulos para as colunas e precisamos especificar esta informação pare evitar a \"promoção\" da primeira linha como título da coluna, para isto utilizaremos o argumento \"header=None\";\n",
    "- Passaremos a lista de titulos \"titulos_colum\" para o argumento \"names=\" que fará a atribuição dos títulos ao dataframe.\n",
    "\n",
    "Dadas as observações criamos duas variáveis para armazenar o caminho do arquivo e títulos das colunas \n"
   ]
  },
  {
   "cell_type": "code",
   "execution_count": 2,
   "id": "e538bd8b",
   "metadata": {},
   "outputs": [],
   "source": [
    "#caminho do arquivo\n",
    "caminho_dados = \"D:/bkp_humberto/PROJETOS/Geo_int/ENTRADA/estab-01.csv\"\n",
    "\n",
    "#Nome das colunas para reatribuição\n",
    "titulos_colum = [\n",
    "    \"cnpj_basico\",\n",
    "    \"cnpj_ordem\",\n",
    "    \"cnjp_dv\",\n",
    "    \"identificador_matriz\",\n",
    "    \"nome_fantasia\",\n",
    "    \"situacao_cadastral\",\n",
    "    \"data_situacao\",\n",
    "    \"motivo_situacao\",\n",
    "    \"nome_cidade_exterior\",\n",
    "    \"pais\",\n",
    "    \"data_inicio_atv\",\n",
    "    \"CNAE_principal\",\n",
    "    \"CNAE_secundario\",\n",
    "    \"tipo_logradouro\",\n",
    "    \"logradouro\",\n",
    "    \"numero_logra\",\n",
    "    \"complemento\",\n",
    "    \"bairro\",\n",
    "    \"CEP\",\n",
    "    \"UF\",\n",
    "    \"municipio\",\n",
    "    \"ddd1\",\"telefone1\",\n",
    "    \"ddd2\",\"telefone2\",\n",
    "    \"ddd_fax\",'fax',\n",
    "    \"email\",\n",
    "    \"situacao_especial\",\n",
    "    \"data_situacao_especial\"\n",
    "]"
   ]
  },
  {
   "cell_type": "markdown",
   "id": "10426d85",
   "metadata": {},
   "source": [
    "Após a construção das variáveis de apoio realizaremos a carga dos dados com seus devidos cuidados(separador, codificação,título)."
   ]
  },
  {
   "cell_type": "code",
   "execution_count": 7,
   "id": "bff2c589",
   "metadata": {},
   "outputs": [
    {
     "name": "stderr",
     "output_type": "stream",
     "text": [
      "C:\\Users\\hcage\\AppData\\Local\\Temp\\ipykernel_19676\\3529961736.py:2: DtypeWarning: Columns (8,21,22,24,26,28) have mixed types. Specify dtype option on import or set low_memory=False.\n",
      "  df_RF_01 = pd.read_csv(caminho_dados,sep=';',encoding='ANSI', header=None,names=titulos_colum)\n"
     ]
    }
   ],
   "source": [
    "#carga dos dados\n",
    "df_RF_01 = pd.read_csv(caminho_dados,sep=';',encoding='ANSI', header=None,names=titulos_colum)"
   ]
  },
  {
   "cell_type": "markdown",
   "id": "18054919",
   "metadata": {},
   "source": [
    "Nosso objetivo é listar apenas as empresas em situação ativa, neste sentido raelizaremos um filtro na coluna \"situacao_cadastral\" para todos os correspondentes ao valor \"2\" que conforme dicionário de dados corresponde as empresas ativas."
   ]
  },
  {
   "cell_type": "code",
   "execution_count": 8,
   "id": "5d4dcc60",
   "metadata": {},
   "outputs": [
    {
     "data": {
      "application/vnd.microsoft.datawrangler.viewer.v0+json": {
       "columns": [
        {
         "name": "index",
         "rawType": "int64",
         "type": "integer"
        },
        {
         "name": "cnpj_basico",
         "rawType": "int64",
         "type": "integer"
        },
        {
         "name": "cnpj_ordem",
         "rawType": "int64",
         "type": "integer"
        },
        {
         "name": "cnjp_dv",
         "rawType": "int64",
         "type": "integer"
        },
        {
         "name": "identificador_matriz",
         "rawType": "int64",
         "type": "integer"
        },
        {
         "name": "nome_fantasia",
         "rawType": "object",
         "type": "unknown"
        },
        {
         "name": "situacao_cadastral",
         "rawType": "int64",
         "type": "integer"
        },
        {
         "name": "data_situacao",
         "rawType": "int64",
         "type": "integer"
        },
        {
         "name": "motivo_situacao",
         "rawType": "int64",
         "type": "integer"
        },
        {
         "name": "nome_cidade_exterior",
         "rawType": "object",
         "type": "unknown"
        },
        {
         "name": "pais",
         "rawType": "float64",
         "type": "float"
        },
        {
         "name": "data_inicio_atv",
         "rawType": "int64",
         "type": "integer"
        },
        {
         "name": "CNAE_principal",
         "rawType": "int64",
         "type": "integer"
        },
        {
         "name": "CNAE_secundario",
         "rawType": "object",
         "type": "unknown"
        },
        {
         "name": "tipo_logradouro",
         "rawType": "object",
         "type": "string"
        },
        {
         "name": "logradouro",
         "rawType": "object",
         "type": "string"
        },
        {
         "name": "numero_logra",
         "rawType": "object",
         "type": "string"
        },
        {
         "name": "complemento",
         "rawType": "object",
         "type": "string"
        },
        {
         "name": "bairro",
         "rawType": "object",
         "type": "string"
        },
        {
         "name": "CEP",
         "rawType": "float64",
         "type": "float"
        },
        {
         "name": "UF",
         "rawType": "object",
         "type": "string"
        },
        {
         "name": "municipio",
         "rawType": "int64",
         "type": "integer"
        },
        {
         "name": "ddd1",
         "rawType": "object",
         "type": "unknown"
        },
        {
         "name": "telefone1",
         "rawType": "object",
         "type": "unknown"
        },
        {
         "name": "ddd2",
         "rawType": "float64",
         "type": "float"
        },
        {
         "name": "telefone2",
         "rawType": "object",
         "type": "unknown"
        },
        {
         "name": "ddd_fax",
         "rawType": "float64",
         "type": "float"
        },
        {
         "name": "fax",
         "rawType": "object",
         "type": "unknown"
        },
        {
         "name": "email",
         "rawType": "object",
         "type": "unknown"
        },
        {
         "name": "situacao_especial",
         "rawType": "object",
         "type": "unknown"
        },
        {
         "name": "data_situacao_especial",
         "rawType": "float64",
         "type": "float"
        }
       ],
       "ref": "82773240-a565-4c6e-80a2-f42163a1d178",
       "rows": [
        [
         "12",
         "591451",
         "1",
         "40",
         "1",
         "QUIM-BASE",
         "2",
         "20051103",
         "0",
         null,
         null,
         "19950417",
         "4623109",
         "4618499",
         "RUA",
         "CORIOLANO DURAND",
         "370",
         "SALA: 3;",
         "VILA SANTA CATARINA",
         "4375050.0",
         "SP",
         "7107",
         "11.0",
         "56415044",
         null,
         null,
         "11.0",
         "56415044",
         "UTILEX.LEGAL@BOL.COM.BR",
         null,
         null
        ],
        [
         "16",
         "7396980",
         "1",
         "32",
         "1",
         null,
         "2",
         "0",
         "0",
         null,
         null,
         "20050520",
         "4530703",
         null,
         "RUA",
         "JOSE ROSSI",
         "1533",
         "FUNDOS",
         "CENTRO",
         "14900000.0",
         "SP",
         "6555",
         null,
         null,
         null,
         null,
         null,
         null,
         null,
         null,
         null
        ]
       ],
       "shape": {
        "columns": 30,
        "rows": 2
       }
      },
      "text/html": [
       "<div>\n",
       "<style scoped>\n",
       "    .dataframe tbody tr th:only-of-type {\n",
       "        vertical-align: middle;\n",
       "    }\n",
       "\n",
       "    .dataframe tbody tr th {\n",
       "        vertical-align: top;\n",
       "    }\n",
       "\n",
       "    .dataframe thead th {\n",
       "        text-align: right;\n",
       "    }\n",
       "</style>\n",
       "<table border=\"1\" class=\"dataframe\">\n",
       "  <thead>\n",
       "    <tr style=\"text-align: right;\">\n",
       "      <th></th>\n",
       "      <th>cnpj_basico</th>\n",
       "      <th>cnpj_ordem</th>\n",
       "      <th>cnjp_dv</th>\n",
       "      <th>identificador_matriz</th>\n",
       "      <th>nome_fantasia</th>\n",
       "      <th>situacao_cadastral</th>\n",
       "      <th>data_situacao</th>\n",
       "      <th>motivo_situacao</th>\n",
       "      <th>nome_cidade_exterior</th>\n",
       "      <th>pais</th>\n",
       "      <th>...</th>\n",
       "      <th>municipio</th>\n",
       "      <th>ddd1</th>\n",
       "      <th>telefone1</th>\n",
       "      <th>ddd2</th>\n",
       "      <th>telefone2</th>\n",
       "      <th>ddd_fax</th>\n",
       "      <th>fax</th>\n",
       "      <th>email</th>\n",
       "      <th>situacao_especial</th>\n",
       "      <th>data_situacao_especial</th>\n",
       "    </tr>\n",
       "  </thead>\n",
       "  <tbody>\n",
       "    <tr>\n",
       "      <th>12</th>\n",
       "      <td>591451</td>\n",
       "      <td>1</td>\n",
       "      <td>40</td>\n",
       "      <td>1</td>\n",
       "      <td>QUIM-BASE</td>\n",
       "      <td>2</td>\n",
       "      <td>20051103</td>\n",
       "      <td>0</td>\n",
       "      <td>NaN</td>\n",
       "      <td>NaN</td>\n",
       "      <td>...</td>\n",
       "      <td>7107</td>\n",
       "      <td>11.0</td>\n",
       "      <td>56415044</td>\n",
       "      <td>NaN</td>\n",
       "      <td>NaN</td>\n",
       "      <td>11.0</td>\n",
       "      <td>56415044</td>\n",
       "      <td>UTILEX.LEGAL@BOL.COM.BR</td>\n",
       "      <td>NaN</td>\n",
       "      <td>NaN</td>\n",
       "    </tr>\n",
       "    <tr>\n",
       "      <th>16</th>\n",
       "      <td>7396980</td>\n",
       "      <td>1</td>\n",
       "      <td>32</td>\n",
       "      <td>1</td>\n",
       "      <td>NaN</td>\n",
       "      <td>2</td>\n",
       "      <td>0</td>\n",
       "      <td>0</td>\n",
       "      <td>NaN</td>\n",
       "      <td>NaN</td>\n",
       "      <td>...</td>\n",
       "      <td>6555</td>\n",
       "      <td>NaN</td>\n",
       "      <td>NaN</td>\n",
       "      <td>NaN</td>\n",
       "      <td>NaN</td>\n",
       "      <td>NaN</td>\n",
       "      <td>NaN</td>\n",
       "      <td>NaN</td>\n",
       "      <td>NaN</td>\n",
       "      <td>NaN</td>\n",
       "    </tr>\n",
       "  </tbody>\n",
       "</table>\n",
       "<p>2 rows × 30 columns</p>\n",
       "</div>"
      ],
      "text/plain": [
       "    cnpj_basico  cnpj_ordem  cnjp_dv  identificador_matriz nome_fantasia  \\\n",
       "12       591451           1       40                     1     QUIM-BASE   \n",
       "16      7396980           1       32                     1           NaN   \n",
       "\n",
       "    situacao_cadastral  data_situacao  motivo_situacao nome_cidade_exterior  \\\n",
       "12                   2       20051103                0                  NaN   \n",
       "16                   2              0                0                  NaN   \n",
       "\n",
       "    pais  ...  municipio  ddd1 telefone1 ddd2 telefone2 ddd_fax       fax  \\\n",
       "12   NaN  ...       7107  11.0  56415044  NaN       NaN    11.0  56415044   \n",
       "16   NaN  ...       6555   NaN       NaN  NaN       NaN     NaN       NaN   \n",
       "\n",
       "                      email  situacao_especial data_situacao_especial  \n",
       "12  UTILEX.LEGAL@BOL.COM.BR                NaN                    NaN  \n",
       "16                      NaN                NaN                    NaN  \n",
       "\n",
       "[2 rows x 30 columns]"
      ]
     },
     "execution_count": 8,
     "metadata": {},
     "output_type": "execute_result"
    }
   ],
   "source": [
    "#filtro de cnpj's ativos\n",
    "df_RF_ativos = df_RF_01[df_RF_01['situacao_cadastral']==2 ]\n",
    "df_RF_ativos.head(2)"
   ]
  },
  {
   "cell_type": "markdown",
   "id": "a25c1553",
   "metadata": {},
   "source": [
    "Faremos a remoção das colunas não interessantes ao nosso objetivo"
   ]
  },
  {
   "cell_type": "code",
   "execution_count": 3,
   "id": "f9d28101",
   "metadata": {},
   "outputs": [
    {
     "ename": "NameError",
     "evalue": "name 'df_RF_ativos' is not defined",
     "output_type": "error",
     "traceback": [
      "\u001b[31m---------------------------------------------------------------------------\u001b[39m",
      "\u001b[31mNameError\u001b[39m                                 Traceback (most recent call last)",
      "\u001b[36mCell\u001b[39m\u001b[36m \u001b[39m\u001b[32mIn[3]\u001b[39m\u001b[32m, line 4\u001b[39m\n\u001b[32m      2\u001b[39m colum_drop = [\u001b[33m'\u001b[39m\u001b[33msituacao_cadastral\u001b[39m\u001b[33m'\u001b[39m,\u001b[33m'\u001b[39m\u001b[33mdata_situacao\u001b[39m\u001b[33m'\u001b[39m,\u001b[33m'\u001b[39m\u001b[33mmotivo_situacao\u001b[39m\u001b[33m'\u001b[39m,\u001b[33m'\u001b[39m\u001b[33mnome_cidade_exterior\u001b[39m\u001b[33m'\u001b[39m,\u001b[33m'\u001b[39m\u001b[33mpais\u001b[39m\u001b[33m'\u001b[39m,\u001b[33m'\u001b[39m\u001b[33msituacao_especial\u001b[39m\u001b[33m'\u001b[39m,\u001b[33m'\u001b[39m\u001b[33mdata_situacao_especial\u001b[39m\u001b[33m'\u001b[39m]\n\u001b[32m      3\u001b[39m \u001b[38;5;66;03m#drop de colunas\u001b[39;00m\n\u001b[32m----> \u001b[39m\u001b[32m4\u001b[39m df_RF_ativos = \u001b[43mdf_RF_ativos\u001b[49m.drop(colum_drop, axis=\u001b[32m1\u001b[39m)\n",
      "\u001b[31mNameError\u001b[39m: name 'df_RF_ativos' is not defined"
     ]
    }
   ],
   "source": [
    "#lista de colunas para remoção\n",
    "colum_drop = ['situacao_cadastral','data_situacao','motivo_situacao','nome_cidade_exterior','pais','situacao_especial','data_situacao_especial']\n",
    "#drop de colunas\n",
    "df_RF_ativos = df_RF_ativos.drop(colum_drop, axis=1)"
   ]
  },
  {
   "cell_type": "markdown",
   "id": "22ab4fec",
   "metadata": {},
   "source": [
    "Por fim, faremos um filtro de estado e salvaremos o resultado em um arquivo do tipo csv"
   ]
  },
  {
   "cell_type": "code",
   "execution_count": 23,
   "id": "0fc875d3",
   "metadata": {},
   "outputs": [],
   "source": [
    "#Filtro para coletar dados do estado de pernambuco\n",
    "df_RF_PE = df_RF_ativos[df_RF_ativos['UF']=='PE']\n",
    "\n",
    "#Exportando os valores salvos em um arquivo do tipo csv\n",
    "df_RF_PE.to_csv('Dados_pe/pe_01')"
   ]
  },
  {
   "cell_type": "markdown",
   "id": "bd846d5f",
   "metadata": {},
   "source": [
    "### Funçao para limpeza dos dados\n",
    "\n",
    "Como visto o processo de limepeza ocorreu conforme o desejado e neste ponto criaremos uma função que realize o processamento dos demais arquivos"
   ]
  },
  {
   "cell_type": "code",
   "execution_count": 4,
   "id": "d00d1c04",
   "metadata": {},
   "outputs": [],
   "source": [
    "def pre_limpeza(arquivo , caminho_carga ,UF, destino_salvamento , titulos_colum, colunas_drop):\n",
    "\n",
    "    #carga dos dados e adição de títulos as colunas\n",
    "    df_carga = pd.read_csv(f'{caminho_carga}/{arquivo}',sep=';',encoding='ANSI', header=None,names=titulos_colum)\n",
    "\n",
    "    #filtro de cnpj's ativos\n",
    "    df_ativos = df_carga[df_carga['situacao_cadastral']==2 ]\n",
    "\n",
    "    #Remoção de colunas não necessárias as análise\n",
    "    df_limpo = df_ativos.drop(colunas_drop, axis=1)\n",
    "\n",
    "    # filtro de estado\n",
    "    df_final = df_limpo[df_limpo['UF']==UF]\n",
    "\n",
    "    #salvar arquivo em formato csv no destino designado com nome do arquivo acrescido por sulfixo\n",
    "    df_final.to_csv(f'{destino_salvamento}/{arquivo}_tratado')\n",
    "\n",
    "    #Função de saída meramente informativa\n",
    "    return(f\"arquivo limpo e salvo {arquivo}_tratado.csv\")"
   ]
  },
  {
   "cell_type": "markdown",
   "id": "705ac5f2",
   "metadata": {},
   "source": [
    "Criada a função, criaremos variáveis auxiliáres e um laço de repetição para efetuar o tratamento dos demais arquivos brutos da Receita Federa."
   ]
  },
  {
   "cell_type": "code",
   "execution_count": 5,
   "id": "958b10ea",
   "metadata": {},
   "outputs": [],
   "source": [
    "#variáveis auxiliares a serem utilizadas\n",
    "\n",
    "#Local do arquivo\n",
    "caminho_dado = \"D:/bkp_humberto/PROJETOS/Geo_int/ENTRADA\"\n",
    "\n",
    "#Lista de nomes dos arquivos\n",
    "arquivos_list = [\n",
    "    'estab-00.csv', 'estab-01.csv',\n",
    "    'estab-02.csv', 'estab-03.csv',\n",
    "    'estab-04.csv', 'estab-05.csv',\n",
    "    'estab-06.csv', 'estab-07.csv',\n",
    "    'estab-08.csv', 'estab-09.csv'\n",
    "]\n",
    "\n",
    "#lista de estados ou dado unitário\n",
    "UF_busca = 'PE'\n",
    "\n",
    "#Caminho de destino para os dados tratados\n",
    "caminho_dado_limpo = 'Dados_pe'"
   ]
  },
  {
   "cell_type": "code",
   "execution_count": 9,
   "id": "57ae69d9",
   "metadata": {},
   "outputs": [
    {
     "name": "stderr",
     "output_type": "stream",
     "text": [
      "C:\\Users\\hcage\\AppData\\Local\\Temp\\ipykernel_1692\\810206453.py:4: DtypeWarning: Columns (8,18,21,22,23,24,25,26,28) have mixed types. Specify dtype option on import or set low_memory=False.\n",
      "  df_carga = pd.read_csv(f'{caminho_carga}/{arquivo}',sep=';',encoding='ANSI', header=None,names=titulos_colum)\n",
      "C:\\Users\\hcage\\AppData\\Local\\Temp\\ipykernel_1692\\810206453.py:4: DtypeWarning: Columns (8,21,22,24,26,28) have mixed types. Specify dtype option on import or set low_memory=False.\n",
      "  df_carga = pd.read_csv(f'{caminho_carga}/{arquivo}',sep=';',encoding='ANSI', header=None,names=titulos_colum)\n",
      "C:\\Users\\hcage\\AppData\\Local\\Temp\\ipykernel_1692\\810206453.py:4: DtypeWarning: Columns (8,21,22,24,26,28) have mixed types. Specify dtype option on import or set low_memory=False.\n",
      "  df_carga = pd.read_csv(f'{caminho_carga}/{arquivo}',sep=';',encoding='ANSI', header=None,names=titulos_colum)\n",
      "C:\\Users\\hcage\\AppData\\Local\\Temp\\ipykernel_1692\\810206453.py:4: DtypeWarning: Columns (8,21,22,24,26,28) have mixed types. Specify dtype option on import or set low_memory=False.\n",
      "  df_carga = pd.read_csv(f'{caminho_carga}/{arquivo}',sep=';',encoding='ANSI', header=None,names=titulos_colum)\n",
      "C:\\Users\\hcage\\AppData\\Local\\Temp\\ipykernel_1692\\810206453.py:4: DtypeWarning: Columns (8,21,22,24,26,28) have mixed types. Specify dtype option on import or set low_memory=False.\n",
      "  df_carga = pd.read_csv(f'{caminho_carga}/{arquivo}',sep=';',encoding='ANSI', header=None,names=titulos_colum)\n",
      "C:\\Users\\hcage\\AppData\\Local\\Temp\\ipykernel_1692\\810206453.py:4: DtypeWarning: Columns (8,21,22,24,25,26,28) have mixed types. Specify dtype option on import or set low_memory=False.\n",
      "  df_carga = pd.read_csv(f'{caminho_carga}/{arquivo}',sep=';',encoding='ANSI', header=None,names=titulos_colum)\n",
      "C:\\Users\\hcage\\AppData\\Local\\Temp\\ipykernel_1692\\810206453.py:4: DtypeWarning: Columns (8,22,24,26,28) have mixed types. Specify dtype option on import or set low_memory=False.\n",
      "  df_carga = pd.read_csv(f'{caminho_carga}/{arquivo}',sep=';',encoding='ANSI', header=None,names=titulos_colum)\n",
      "C:\\Users\\hcage\\AppData\\Local\\Temp\\ipykernel_1692\\810206453.py:4: DtypeWarning: Columns (8,21,22,24,26,28) have mixed types. Specify dtype option on import or set low_memory=False.\n",
      "  df_carga = pd.read_csv(f'{caminho_carga}/{arquivo}',sep=';',encoding='ANSI', header=None,names=titulos_colum)\n",
      "C:\\Users\\hcage\\AppData\\Local\\Temp\\ipykernel_1692\\810206453.py:4: DtypeWarning: Columns (8,21,22,24,26,28) have mixed types. Specify dtype option on import or set low_memory=False.\n",
      "  df_carga = pd.read_csv(f'{caminho_carga}/{arquivo}',sep=';',encoding='ANSI', header=None,names=titulos_colum)\n",
      "C:\\Users\\hcage\\AppData\\Local\\Temp\\ipykernel_1692\\810206453.py:4: DtypeWarning: Columns (8,21,22,24,26,28) have mixed types. Specify dtype option on import or set low_memory=False.\n",
      "  df_carga = pd.read_csv(f'{caminho_carga}/{arquivo}',sep=';',encoding='ANSI', header=None,names=titulos_colum)\n"
     ]
    }
   ],
   "source": [
    "#laço de repetição para coletar e processamento dos dados\n",
    "for i in range(10):\n",
    "    pre_limpeza(arquivos_list[i],caminho_dado,UF_busca,caminho_dado_limpo,titulos_colum,colum_drop)"
   ]
  },
  {
   "cell_type": "markdown",
   "id": "6c5b0193",
   "metadata": {},
   "source": [
    "Após alguns bons minutos de espera, faremos uma nova função para realizar a junção dos arquivos e posterior geocodificação. "
   ]
  },
  {
   "cell_type": "code",
   "execution_count": null,
   "id": "98723308",
   "metadata": {},
   "outputs": [],
   "source": [
    "def junta_df(lista_df):\n"
   ]
  }
 ],
 "metadata": {
  "kernelspec": {
   "display_name": "Python 3",
   "language": "python",
   "name": "python3"
  },
  "language_info": {
   "codemirror_mode": {
    "name": "ipython",
    "version": 3
   },
   "file_extension": ".py",
   "mimetype": "text/x-python",
   "name": "python",
   "nbconvert_exporter": "python",
   "pygments_lexer": "ipython3",
   "version": "3.12.10"
  }
 },
 "nbformat": 4,
 "nbformat_minor": 5
}
