{
 "cells": [
  {
   "cell_type": "markdown",
   "id": "8b4cf420",
   "metadata": {},
   "source": [
    "# Mapa interativo para busca de clientes no estado de Pernambuco"
   ]
  },
  {
   "cell_type": "markdown",
   "id": "2dd66228",
   "metadata": {},
   "source": [
    "### Bliblioteca utilizadas\n"
   ]
  },
  {
   "cell_type": "code",
   "execution_count": 2,
   "id": "74362059",
   "metadata": {},
   "outputs": [],
   "source": [
    "import pandas as pd\n",
    "import geopandas as gd\n",
    "import keplergl as kp"
   ]
  }
 ],
 "metadata": {
  "kernelspec": {
   "display_name": "Python 3",
   "language": "python",
   "name": "python3"
  },
  "language_info": {
   "codemirror_mode": {
    "name": "ipython",
    "version": 3
   },
   "file_extension": ".py",
   "mimetype": "text/x-python",
   "name": "python",
   "nbconvert_exporter": "python",
   "pygments_lexer": "ipython3",
   "version": "3.12.4"
  }
 },
 "nbformat": 4,
 "nbformat_minor": 5
}
